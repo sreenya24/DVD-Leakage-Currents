{
 "cells": [
  {
   "cell_type": "code",
   "execution_count": 1,
   "metadata": {},
   "outputs": [],
   "source": [
    "import numpy as np\n",
    "import os\n",
    "import csv"
   ]
  },
  {
   "cell_type": "code",
   "execution_count": 2,
   "metadata": {},
   "outputs": [],
   "source": [
    "def bodyLeakageFromLGate(type, inp1, inp2):\n",
    "    \"\"\"\n",
    "        Takes input the type of logic gate, and the inputs to it and returns the leakage body current for that gate\n",
    "    \"\"\"\n",
    "    i = inp1\n",
    "    j = inp2\n",
    "    file = str(type)+'_bodyleak.csv'\n",
    "    with open(file, 'r') as f:\n",
    "        reader = csv.reader(f)\n",
    "        for _ in range(i):\n",
    "            next(reader)\n",
    "        row = next(reader)\n",
    "        element = row[j]\n",
    "\n",
    "        print(element)\n",
    "        return element\n",
    "\n",
    "def gateLeakageFromLGate(type, inp1, inp2):\n",
    "    \"\"\"\n",
    "        Takes input the type of logic gate, and the inputs to it and returns the leakage gate current for that gate\n",
    "    \"\"\"\n",
    "    i = inp1\n",
    "    j = inp2\n",
    "    file = str(type)+'_gateleak.csv'\n",
    "    with open(file, 'r') as f:\n",
    "        reader = csv.reader(f)\n",
    "        for _ in range(i):\n",
    "            next(reader)\n",
    "        row = next(reader)\n",
    "        element = row[j]\n",
    "\n",
    "        print(element)\n",
    "        return element\n",
    "    \n",
    "def stLeakageFromLGate(type, inp1, inp2):\n",
    "    \"\"\"\n",
    "        Takes input the type of logic gate, and the inputs to it and returns the leakage subthreshold current for that gate\n",
    "    \"\"\"\n",
    "    i = inp1\n",
    "    j = inp2\n",
    "    file = str(type)+'_stleak.csv'\n",
    "    with open(file, 'r') as f:\n",
    "        reader = csv.reader(f)\n",
    "        for _ in range(i):\n",
    "            next(reader)\n",
    "        row = next(reader)\n",
    "        element = row[j]\n",
    "\n",
    "        print(element)\n",
    "        return element\n",
    "\n",
    "def totalLeakageCurrentFromLGate(type, inp1, inp2):\n",
    "    return stLeakageFromLGate(type, inp1, inp2) + bodyLeakageFromLGate(type, inp1, inp2) + gateLeakageFromLGate(type, inp1, inp2)\n"
   ]
  },
  {
   "cell_type": "code",
   "execution_count": null,
   "metadata": {},
   "outputs": [],
   "source": []
  }
 ],
 "metadata": {
  "kernelspec": {
   "display_name": "Python 3",
   "language": "python",
   "name": "python3"
  },
  "language_info": {
   "codemirror_mode": {
    "name": "ipython",
    "version": 3
   },
   "file_extension": ".py",
   "mimetype": "text/x-python",
   "name": "python",
   "nbconvert_exporter": "python",
   "pygments_lexer": "ipython3",
   "version": "3.10.12"
  }
 },
 "nbformat": 4,
 "nbformat_minor": 2
}
