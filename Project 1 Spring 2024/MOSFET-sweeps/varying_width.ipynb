{
 "cells": [
  {
   "cell_type": "code",
   "execution_count": 72,
   "metadata": {},
   "outputs": [
    {
     "name": "stderr",
     "output_type": "stream",
     "text": [
      "Note: No \".plot\", \".print\", or \".fourier\" lines; no simulations run\n",
      "Note: No \".plot\", \".print\", or \".fourier\" lines; no simulations run\n",
      "Note: No \".plot\", \".print\", or \".fourier\" lines; no simulations run\n",
      "Note: No \".plot\", \".print\", or \".fourier\" lines; no simulations run\n",
      "Note: No \".plot\", \".print\", or \".fourier\" lines; no simulations run\n",
      "Note: No \".plot\", \".print\", or \".fourier\" lines; no simulations run\n"
     ]
    }
   ],
   "source": [
    "import subprocess\n",
    "import os\n",
    "\n",
    "netlist_template = \"\"\"\n",
    ".include ../model/32nm_HP.pm\n",
    ".param SUPPLY=1\n",
    "\n",
    ".PARAM Lmin=32n\n",
    ".PARAM Wmin=32n\n",
    ".PARAM Ldiff=64n\n",
    "\n",
    ".PARAM N={n}\n",
    "\n",
    "\n",
    ".TEMP 85\n",
    "\n",
    "M1 drain gate source body pmos W={{N*Wmin}} L={{Lmin}} AS={{N*Wmin*Ldiff}} AD={{N*Wmin*Ldiff}} PS={{2*(Ldiff+N*Wmin)}} PD={{2*(Ldiff+N*Wmin)}}\n",
    "Vd \tdrain\t0\t\t0\n",
    "Vg \tgate\t0\t\t1\n",
    "Vs \tsource\talim\t\t0\n",
    "Vb \tbody\t1\t\t1\n",
    "Vdd \talim\t0\t\t0\n",
    "\n",
    ".control\n",
    "let voltage=-0.01\n",
    "let Vddbasic=1.0\n",
    "\n",
    "while voltage le Vddbasic\n",
    "  let voltage = voltage + 0.01\n",
    "  alter Vdd = voltage\n",
    "  dc TEMP 85 86 10\n",
    "  print abs(V(alim)) V(drain) V(gate) V(source) V(body) I(Vd) I(Vg) I(Vs) I(Vb)\n",
    "\n",
    "end\n",
    "\n",
    ".endc\n",
    "\n",
    ".end\n",
    "\"\"\"\n",
    "\n",
    "n_values = [1, 2, 3, 4, 6, 8]\n",
    "\n",
    "output_dir = \"temp\"\n",
    "\n",
    "# make the directory if it doesn't exist\n",
    "os.makedirs(output_dir, exist_ok=True)\n",
    "\n",
    "outs = []\n",
    "for n in n_values:\n",
    "    netlist_content = netlist_template.format(n=n)\n",
    "    \n",
    "    filename = f\"{output_dir}/g1ssd0-pmos_{n}.net\"\n",
    "    \n",
    "    with open(filename, 'w') as file:\n",
    "        file.write(netlist_content)\n",
    "    \n",
    "    p = subprocess.run([\"ngspice\", filename] , encoding='utf-8', \n",
    "stdout=subprocess.PIPE)\n",
    "    windstr = p.stdout\n",
    "    outs.append(windstr)"
   ]
  },
  {
   "cell_type": "code",
   "execution_count": 73,
   "metadata": {},
   "outputs": [],
   "source": [
    "lines = windstr.split('\\n')\n",
    "# make a matrix out of every 10-18 lines\n",
    "matrix = []\n",
    "for o in outs:\n",
    "    lines = o.split('\\n')\n",
    "    curr = []\n",
    "    # make a matrix out of every 10-18 lines\n",
    "    for i in range(10, len(lines), 13):\n",
    "        curr.append(lines[i:i+9])\n",
    "    matrix.append(curr)"
   ]
  },
  {
   "cell_type": "code",
   "execution_count": 74,
   "metadata": {},
   "outputs": [],
   "source": [
    "# make directory \n",
    "dir_name = \"results-pmos\"\n",
    "os.makedirs(dir_name, exist_ok=True)\n",
    "\n",
    "filename = f\"{dir_name}/g1ssd0-pmos_width_\"\n",
    "for i, n in enumerate(n_values):\n",
    "    with open(filename + str(n) + \".csv\", 'w') as file:\n",
    "        file.write(\"Valim,Vd,Vg,Vs,Vb,Id,Ig,Is,Ib\\n\") \n",
    "        for j in range(len(matrix[i])):\n",
    "            for k in range(9):\n",
    "                value = matrix[i][j][k].split(' ')[-1]\n",
    "                file.write(value + \",\")\n",
    "                \n",
    "            file.write(\"\\n\")"
   ]
  }
 ],
 "metadata": {
  "kernelspec": {
   "display_name": "base",
   "language": "python",
   "name": "python3"
  },
  "language_info": {
   "codemirror_mode": {
    "name": "ipython",
    "version": 3
   },
   "file_extension": ".py",
   "mimetype": "text/x-python",
   "name": "python",
   "nbconvert_exporter": "python",
   "pygments_lexer": "ipython3",
   "version": "3.10.12"
  }
 },
 "nbformat": 4,
 "nbformat_minor": 2
}
