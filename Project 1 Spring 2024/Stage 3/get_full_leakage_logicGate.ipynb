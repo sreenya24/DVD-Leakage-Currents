{
 "cells": [
  {
   "cell_type": "code",
   "execution_count": 1,
   "metadata": {},
   "outputs": [],
   "source": [
    "import numpy as np\n",
    "import os\n",
    "import csv"
   ]
  },
  {
   "cell_type": "code",
   "execution_count": 2,
   "metadata": {},
   "outputs": [],
   "source": [
    "vdd = 1\n",
    "gnd = 0 "
   ]
  },
  {
   "cell_type": "code",
   "execution_count": 7,
   "metadata": {},
   "outputs": [],
   "source": [
    "def readCSV(name):\n",
    "    with open(name, 'r') as f:\n",
    "        reader = csv.reader(f)\n",
    "        data = list(reader)\n",
    "    return data"
   ]
  },
  {
   "cell_type": "code",
   "execution_count": 17,
   "metadata": {},
   "outputs": [],
   "source": [
    "single_nmos_root = '../MOSFET-sweeps/results-nmos/'\n",
    "single_pmos_root = '../MOSFET-sweeps/results-pmos/'\n",
    "\n",
    "Id = 6\n",
    "Ib = 9\n",
    "Ig = 7\n",
    "\n",
    "def I_sub_pmos(width, gate, source, drain, voltage):\n",
    "    data = readCSV(single_pmos_root + 'g'+str(gate)+ 's' + str(source) \n",
    "                   + 'd' + str(drain) + '-pmos_width_' + str(width)+ '.csv')\n",
    "    row = voltage//0.01 + 1\n",
    "    return data[row][Id]\n",
    "\n",
    "def I_sub_nmos(width, gate, source, drain, voltage):\n",
    "    data = readCSV(single_nmos_root + 'g'+str(gate)+ 's' + str(source) \n",
    "                   + 'd' + str(drain) + '-nmos_width_' + str(width)+ '.csv')\n",
    "    row = voltage//0.01 + 1\n",
    "    return data[row][Id]\n",
    "\n",
    "def I_body_pmos(width, gate, source, drain, voltage):\n",
    "    data = readCSV(single_pmos_root + 'g'+str(gate)+ 's' + str(source) \n",
    "                   + 'd' + str(drain) + '-pmos_width_' + str(width)+ '.csv')\n",
    "    row = voltage//0.01 + 1\n",
    "    return data[row][Ib]\n",
    "\n",
    "def I_body_nmos(width, gate, source, drain, voltage):\n",
    "    data = readCSV(single_nmos_root + 'g'+str(gate)+ 's' + str(source) \n",
    "                   + 'd' + str(drain) + '-nmos_width_' + str(width)+ '.csv')\n",
    "    row = voltage//0.01 + 1\n",
    "    return data[row][Ib]\n",
    "\n",
    "def I_gate_pmos(width, gate, source, drain, voltage):\n",
    "    data = readCSV(single_pmos_root + 'g'+str(gate)+ 's' + str(source) \n",
    "                   + 'd' + str(drain) + '-pmos_width_' + str(width)+ '.csv')\n",
    "    row = voltage//0.01 + 1\n",
    "    return data[row][Ig]\n",
    "\n",
    "def I_gate_nmos(width, gate, source, drain, voltage):\n",
    "    data = readCSV(single_nmos_root + 'g'+str(gate)+ 's' + str(source) \n",
    "                   + 'd' + str(drain) + '-nmos_width_' + str(width)+ '.csv')\n",
    "    row = voltage//0.01 + 1\n",
    "    return data[row][Ig]\n",
    "\n"
   ]
  },
  {
   "cell_type": "code",
   "execution_count": 23,
   "metadata": {},
   "outputs": [],
   "source": [
    "stage_2_root = '../Stacked-MOS/'\n",
    "\n",
    "int_voltage_nmos = csv.reader(open(stage_2_root+'NMOS/outputs.csv'))\n",
    "int_voltage_pmos = csv.reader(open(stage_2_root+'PMOS/outputs.csv'))\n",
    "\n",
    "int_voltage_nmos = list(int_voltage_nmos)\n",
    "int_voltage_pmos = list(int_voltage_pmos)\n",
    "\n",
    "vn = [float(row[-1]) for row in int_voltage_nmos[1:]]\n",
    "vp = [float(row[-1]) for row in int_voltage_pmos[1:]]\n"
   ]
  },
  {
   "cell_type": "code",
   "execution_count": 24,
   "metadata": {},
   "outputs": [],
   "source": [
    "def NOR(in1, in2):\n",
    "    ### pmos width = 4, nmos width = 1\n",
    "    if in1 == 0 and in2 == 0:\n",
    "        sub_leakage = abs(I_sub_pmos(4, 0, 1, 's', vp[0]))\n",
    "        body_leakage = 2*(I_body_nmos(1, 0, 0, 's', 1.0)) + I_body_pmos(4, 0, 1, 's', vp[0]) + I_body_pmos(4, 0, 's', 1, vp[0])\n",
    "        gate_leakage = 2*(I_gate_nmos(1, 0, 0, 's', 1.0)) + I_gate_pmos(4, 0, 1, 's', vp[0]) + I_gate_pmos(4, 0, 's', 1, vp[0])\n",
    "    \n",
    "    if in1 == 0 and in2 == 1:\n",
    "        sub_leakage = abs(I_sub_pmos(4, 0, 1, 's', vp[1]))\n",
    "        body_leakage = I_body_nmos(1, 0, 0, 's', 0) + I_body_nmos(1, 1, 0, 's', 0) + I_body_pmos(4, 0, 1, 's', vp[1]) + I_body_pmos(4, 1, 's', 0, vp[1])\n",
    "        gate_leakage = I_gate_nmos(1, 0, 0, 's', 0) + I_gate_nmos(1, 1, 0, 's', 0) + I_gate_pmos(4, 0, 1, 's', vp[1]) + I_gate_pmos(4, 1, 's', 0, vp[1])\n",
    "\n",
    "    if in1 == 1 and in2 == 0:\n",
    "        sub_leakage = abs(I_sub_pmos(4, 0, 1, 's', vp[2]))\n",
    "        body_leakage = I_body_nmos(1, 0, 0, 's', 0) + I_body_nmos(1, 1, 0, 's', 0) + I_body_pmos(4, 0, 's', 0, vp[2]) + I_body_pmos(4, 1, 1, 's', vp[2])\n",
    "        gate_leakage = I_gate_nmos(1, 0, 0, 's', 0) + I_gate_nmos(1, 1, 0, 's', 0) + I_gate_pmos(4, 0, 's', 0, vp[2]) + I_gate_pmos(4, 1, 1, 's', vp[2])\n",
    "\n",
    "    if in1 == 1 and in2 == 1:\n",
    "        sub_leakage = abs(I_sub_pmos(4, 1, 1, 's', vp[3]))\n",
    "        body_leakage = 2*(I_body_nmos(1, 1, 0, 's', 0)) + I_body_pmos(4, 1, 1, 's', vp[3]) + I_body_pmos(4, 1, 's', 0, vp[3])\n",
    "        gate_leakage = 2*(I_gate_nmos(1, 0, 0, 's', 0)) + I_gate_pmos(4, 1, 1, 's', vp[3]) + I_gate_pmos(4, 1, 's', 0, vp[3])\n",
    "    \n",
    "    return sub_leakage, body_leakage, gate_leakage\n",
    "\n",
    "# NAND gate\n",
    "def NAND(in1, in2):\n",
    "    ### pmos width = 4, nmos width = 2\n",
    "    if in1 == 0 and in2 == 0:\n",
    "        sub_leakage = abs(I_sub_nmos(2, 0, 's', 1, vn[0]))\n",
    "        body_leakage = 2*(I_body_pmos(4, 0, 1, 's', 1.0)) + I_body_nmos(2, 0, 0, 's', vn[0]) + I_body_nmos(2, 0, 's', 1, vn[0])\n",
    "        gate_leakage = 2*(I_gate_pmos(4, 0, 1, 's', 1.0)) + I_gate_nmos(2, 0, 0, 's', vn[0]) + I_gate_nmos(2, 0, 's', 1, vn[0])\n",
    "    \n",
    "    if in1 == 0 and in2 == 1:\n",
    "        sub_leakage = abs(I_sub_nmos(2, 0, 's', 1, vn[1]))\n",
    "        body_leakage = I_body_nmos(2, 0, 's', 1, vn[1]) + I_body_nmos(2, 1, 0, 's', vn[1]) + I_body_pmos(4, 0, 1, 's', 1) + I_body_pmos(4, 1, 1, 's', 1)\n",
    "        gate_leakage = I_gate_nmos(2, 0, 's', 1, vn[1]) + I_gate_nmos(2, 1, 0, 's', vn[1]) + I_gate_pmos(4, 0, 1, 's', 1) + I_gate_pmos(4, 1, 1, 's', 1)\n",
    "\n",
    "    if in1 == 1 and in2 == 0:\n",
    "        sub_leakage = abs(I_sub_nmos(2, 0, 0, 's', vn[2]))\n",
    "        body_leakage = I_body_nmos(2, 0, 0, 's', vn[2]) + I_body_nmos(2, 1, 's', 1, vn[2]) + I_body_pmos(4, 0, 1, 's', 1) + I_body_pmos(4, 1, 1, 's', 1)\n",
    "        gate_leakage = I_gate_nmos(2, 0, 0, 's', vn[2]) + I_gate_nmos(2, 1, 's', 1, vn[2]) + I_gate_pmos(4, 0, 1, 's', 1) + I_gate_pmos(4, 1, 1, 's', 1)\n",
    "\n",
    "    if in1 == 1 and in2 == 1:\n",
    "        sub_leakage = abs(I_sub_nmos(2, 1, 's', 0, vn[3]))\n",
    "        body_leakage = 2*(I_body_pmos(4, 1, 1, 's', 0)) + I_body_nmos(2, 1, 's', 0, vn[3]) + I_body_nmos(2, 1, 0, 's', vn[3])\n",
    "        gate_leakage = 2*(I_gate_pmos(4, 1, 1, 's', 0)) + I_gate_nmos(2, 1, 's', 0, vn[3]) + I_gate_nmos(2, 1, 0, 's', vn[3])\n",
    "    \n",
    "    return sub_leakage, body_leakage, gate_leakage\n",
    "\n",
    "# NOT gate\n",
    "def NOT(inp):\n",
    "    ### pmos width = 2, nmos width = 1\n",
    "    if inp == 0:\n",
    "        sub_leakage = abs(I_sub_pmos(2, 0, 1, 's', 1))\n",
    "        body_leakage = I_body_nmos(1, 0, 0, 's', 1.0) + I_body_pmos(2, 0, 1, 's', 1)\n",
    "        gate_leakage = I_gate_nmos(1, 0, 0, 's', 1.0) + I_gate_pmos(2, 0, 1, 's', 1)\n",
    "    \n",
    "    if inp == 1:\n",
    "        sub_leakage = abs(I_sub_pmos(2, 1, 1, 's', 0))\n",
    "        body_leakage = I_body_nmos(1, 1, 0, 's', 0) + I_body_pmos(2, 1, 1, 's', 0)\n",
    "        gate_leakage = I_gate_nmos(1, 1, 0, 's', 0) + I_gate_pmos(2, 1, 1, 's', 0)\n",
    "    \n",
    "    return sub_leakage, body_leakage, gate_leakage\n"
   ]
  },
  {
   "cell_type": "code",
   "execution_count": 21,
   "metadata": {},
   "outputs": [],
   "source": [
    "def NAND_lite():\n",
    "    pass \n",
    "\n",
    "def NOR_lite():\n",
    "    pass\n",
    "\n",
    "def NOT_lite():\n",
    "    pass"
   ]
  },
  {
   "cell_type": "code",
   "execution_count": 22,
   "metadata": {},
   "outputs": [],
   "source": [
    "def CLA_leakage(P0, P1, P2, P3, G0, G1, G2, G3, C0, Cin):\n",
    "    I_leak = 0\n",
    "    # add all the nand nor and not gates \n",
    "    \n",
    "    "
   ]
  }
 ],
 "metadata": {
  "kernelspec": {
   "display_name": "Python 3",
   "language": "python",
   "name": "python3"
  },
  "language_info": {
   "codemirror_mode": {
    "name": "ipython",
    "version": 3
   },
   "file_extension": ".py",
   "mimetype": "text/x-python",
   "name": "python",
   "nbconvert_exporter": "python",
   "pygments_lexer": "ipython3",
   "version": "3.10.12"
  }
 },
 "nbformat": 4,
 "nbformat_minor": 2
}
