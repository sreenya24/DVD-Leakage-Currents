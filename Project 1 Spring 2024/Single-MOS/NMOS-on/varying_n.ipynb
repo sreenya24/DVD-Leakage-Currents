{
 "cells": [
  {
   "cell_type": "code",
   "execution_count": 3,
   "metadata": {},
   "outputs": [
    {
     "ename": "KeyError",
     "evalue": "'Wmin*N'",
     "output_type": "error",
     "traceback": [
      "\u001b[1;31m---------------------------------------------------------------------------\u001b[0m",
      "\u001b[1;31mKeyError\u001b[0m                                  Traceback (most recent call last)",
      "Input \u001b[1;32mIn [3]\u001b[0m, in \u001b[0;36m<cell line: 54>\u001b[1;34m()\u001b[0m\n\u001b[0;32m     51\u001b[0m os\u001b[38;5;241m.\u001b[39mmakedirs(output_dir, exist_ok\u001b[38;5;241m=\u001b[39m\u001b[38;5;28;01mTrue\u001b[39;00m)\n\u001b[0;32m     54\u001b[0m \u001b[38;5;28;01mfor\u001b[39;00m n \u001b[38;5;129;01min\u001b[39;00m n_values:\n\u001b[1;32m---> 55\u001b[0m     netlist_content \u001b[38;5;241m=\u001b[39m \u001b[43mnetlist_template\u001b[49m\u001b[38;5;241;43m.\u001b[39;49m\u001b[43mformat\u001b[49m\u001b[43m(\u001b[49m\u001b[43mn\u001b[49m\u001b[38;5;241;43m=\u001b[39;49m\u001b[43mn\u001b[49m\u001b[43m)\u001b[49m\n\u001b[0;32m     57\u001b[0m     filename \u001b[38;5;241m=\u001b[39m \u001b[38;5;124mf\u001b[39m\u001b[38;5;124m\"\u001b[39m\u001b[38;5;132;01m{\u001b[39;00moutput_dir\u001b[38;5;132;01m}\u001b[39;00m\u001b[38;5;124m/nmos_off_\u001b[39m\u001b[38;5;132;01m{\u001b[39;00mn\u001b[38;5;132;01m}\u001b[39;00m\u001b[38;5;124m.net\u001b[39m\u001b[38;5;124m\"\u001b[39m\n\u001b[0;32m     59\u001b[0m     \u001b[38;5;28;01mwith\u001b[39;00m \u001b[38;5;28mopen\u001b[39m(filename, \u001b[38;5;124m'\u001b[39m\u001b[38;5;124mw\u001b[39m\u001b[38;5;124m'\u001b[39m) \u001b[38;5;28;01mas\u001b[39;00m file:\n",
      "\u001b[1;31mKeyError\u001b[0m: 'Wmin*N'"
     ]
    }
   ],
   "source": [
    "import subprocess\n",
    "import os\n",
    "\n",
    "netlist_template = \"\"\"\n",
    "*CONDUCTION NMOS W1\n",
    "\n",
    ".INCLUDE ../../model/32nm_HP.pm\n",
    ".OPTIONS GMIN=1e-020 ABSTOL=1e-18\n",
    "\n",
    "*Definizione dei parametri\n",
    ".PARAM Lmin=22n\n",
    ".PARAM Wmin=22n\n",
    ".PARAM Ldiff=44n\n",
    "\n",
    ".TEMP 85\n",
    "\n",
    ".PARAM N={n}\n",
    "\n",
    "*Descrizione della cella\n",
    "Mn drain gate source body nmos W={Wmin*N} L={Lmin} AS={Wmin*N*Ldiff} AD={Wmin*N*Ldiff} PS={2*(Ldiff+Wmin*N)} PD={2*(Ldiff+Wmin*N)}\n",
    "Vd \tdrain\t0\t\t0\n",
    "Vg \tgate\talim\t\t0\n",
    "Vs \tsource\t0\t\t0\n",
    "Vb \tbody\t0\t\t0\n",
    "Vdd \talim\t0\t\t0\n",
    "\n",
    "*Definizione del tipo di analisi\n",
    ".CONTROL\n",
    "let voltage=-0.05\n",
    "let Vddbasic=1.0\n",
    "\n",
    "while voltage le Vddbasic\n",
    "  let voltage = voltage + 0.05\n",
    "  alter Vdd = voltage\n",
    "  dc TEMP 85 86 10\n",
    "  print abs(V(alim)) V(drain) V(gate) V(source) V(body) I(Vd) I(Vg) I(Vs) I(Vb)\n",
    "\n",
    "end\n",
    "\n",
    ".ENDC\n",
    ".END\n",
    "\n",
    "\"\"\"\n",
    "\n",
    "n_values = [1, 2, 3, 4, 6, 8]\n",
    "\n",
    "output_dir = \"netlists_varying_width\"\n",
    "\n",
    "# make the directory if it doesn't exist\n",
    "os.makedirs(output_dir, exist_ok=True)\n",
    "\n",
    "\n",
    "for n in n_values:\n",
    "    netlist_content = netlist_template.format(n=n)\n",
    "    \n",
    "    filename = f\"{output_dir}/nmos_off_{n}.net\"\n",
    "    \n",
    "    with open(filename, 'w') as file:\n",
    "        file.write(netlist_content)\n",
    "    \n",
    "    subprocess.run([\"ngspice\", filename])"
   ]
  }
 ],
 "metadata": {
  "kernelspec": {
   "display_name": "Python 3",
   "language": "python",
   "name": "python3"
  },
  "language_info": {
   "codemirror_mode": {
    "name": "ipython",
    "version": 3
   },
   "file_extension": ".py",
   "mimetype": "text/x-python",
   "name": "python",
   "nbconvert_exporter": "python",
   "pygments_lexer": "ipython3",
   "version": "3.10.4"
  }
 },
 "nbformat": 4,
 "nbformat_minor": 2
}
