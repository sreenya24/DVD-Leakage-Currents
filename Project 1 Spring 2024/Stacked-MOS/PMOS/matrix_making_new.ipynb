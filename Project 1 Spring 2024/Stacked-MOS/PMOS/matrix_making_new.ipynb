{
 "cells": [
  {
   "cell_type": "code",
   "execution_count": 2,
   "metadata": {},
   "outputs": [
    {
     "name": "stderr",
     "output_type": "stream",
     "text": [
      "Note: No \".plot\", \".print\", or \".fourier\" lines; no simulations run\n",
      "Note: No \".plot\", \".print\", or \".fourier\" lines; no simulations run\n",
      "Note: No \".plot\", \".print\", or \".fourier\" lines; no simulations run\n",
      "Note: No \".plot\", \".print\", or \".fourier\" lines; no simulations run\n"
     ]
    }
   ],
   "source": [
    "import subprocess\n",
    "import os\n",
    "\n",
    "netlist_template = \"\"\"\n",
    "\n",
    "*CONDUCTION PMOS W1\n",
    "\n",
    ".INCLUDE ../../model/32nm_HP.pm\n",
    ".OPTIONS GMIN=1e-020 ABSTOL=1e-18\n",
    "\n",
    "*Definizione dei parametri\n",
    ".PARAM Lmin=22n\n",
    ".PARAM Wmin=22n\n",
    ".PARAM Ldiff=44n\n",
    "\n",
    ".TEMP 85\n",
    "\n",
    ".PARAM N=4\n",
    "\n",
    "*Descrizione della prima cella NMOS\n",
    "Mp1 x in1 1 1 pmos W={{Wmin*N}} L={{Lmin}} AS={{Wmin*N*Ldiff}} AD={{Wmin*N*Ldiff}} PS={{2*(Ldiff+Wmin*N)}} PD={{2*(Ldiff+Wmin*N)}}\n",
    "\n",
    "*Descrizione della seconda cella NMOS in series\n",
    "Mp2 out in2 x 1 pmos W={{Wmin*N}} L={{Lmin}} AS={{Wmin*N*Ldiff}} AD={{Wmin*N*Ldiff}} PS={{2*(Ldiff+Wmin*N)}} PD={{2*(Ldiff+Wmin*N)}}\n",
    "\n",
    "\n",
    "Vdd out\t0\t{output}\n",
    "Va \tin1\t0\t{inp1}\n",
    "Vb  in2 0   {inp2}\n",
    "\n",
    ".CONTROL\n",
    "dc TEMP 85 86 10\n",
    "print V(x) \n",
    "\n",
    ".ENDC\n",
    ".END\n",
    "\n",
    "\n",
    "\"\"\"\n",
    "\n",
    "inp1s = [0, 0, 1, 1]\n",
    "inp2s = [0, 1, 0, 1]\n",
    "outputs = [1, 0, 0, 0]\n",
    "output_dir = \"diff_inputs\"\n",
    "\n",
    "# make the directory if it doesn't exist\n",
    "os.makedirs(output_dir, exist_ok=True)\n",
    "\n",
    "outs = []\n",
    "i = 0\n",
    "for inp1, inp2 in zip(inp1s, inp2s):\n",
    "    \n",
    "    netlist_content = netlist_template.format(output=outputs[i], inp1=inp1, inp2=inp2)\n",
    "    i += 1\n",
    "    \n",
    "    \n",
    "    filename = f\"{output_dir}/pmos_{inp1},{inp2}.net\"\n",
    "    \n",
    "    with open(filename, 'w') as file:\n",
    "        file.write(netlist_content)\n",
    "    \n",
    "    p = subprocess.run([\"ngspice\", filename] , encoding='utf-8', \n",
    "stdout=subprocess.PIPE)\n",
    "    windstr = p.stdout\n",
    "    outs.append(windstr)"
   ]
  },
  {
   "cell_type": "code",
   "execution_count": 3,
   "metadata": {},
   "outputs": [
    {
     "name": "stdout",
     "output_type": "stream",
     "text": [
      "['v(x) = 9.999962e-01', 'v(x) = 3.864054e-03', 'v(x) = 2.967120e-11', 'v(x) = 8.783304e-03']\n"
     ]
    }
   ],
   "source": [
    "\n",
    "# make a matrix out of every 10-18 lines\n",
    "matrix = []\n",
    "for o in outs:\n",
    "    lines = o.split('\\n')\n",
    "    matrix.append(lines[10])\n",
    "    \n",
    "print(matrix)"
   ]
  },
  {
   "cell_type": "code",
   "execution_count": 4,
   "metadata": {},
   "outputs": [],
   "source": [
    "inp1s = [0, 0, 1, 1]\n",
    "inp2s = [0, 1, 0, 1]\n",
    "\n",
    "filename = f\"outputs.csv\"\n",
    "with open(filename, 'w') as file:\n",
    "    file.write(\"inp1,inp2,V(Internal node)\\n\")\n",
    "    for i, line in enumerate(matrix):\n",
    "        file.write(f\"{inp1s[i]},{inp2s[i]},{line.split(' ')[-1]}\\n\")"
   ]
  }
 ],
 "metadata": {
  "kernelspec": {
   "display_name": "base",
   "language": "python",
   "name": "python3"
  },
  "language_info": {
   "codemirror_mode": {
    "name": "ipython",
    "version": 3
   },
   "file_extension": ".py",
   "mimetype": "text/x-python",
   "name": "python",
   "nbconvert_exporter": "python",
   "pygments_lexer": "ipython3",
   "version": "3.10.12"
  }
 },
 "nbformat": 4,
 "nbformat_minor": 2
}
